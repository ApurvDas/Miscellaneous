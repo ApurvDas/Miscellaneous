{
  "nbformat": 4,
  "nbformat_minor": 0,
  "metadata": {
    "colab": {
      "provenance": []
    },
    "kernelspec": {
      "name": "python3",
      "display_name": "Python 3"
    },
    "language_info": {
      "name": "python"
    }
  },
  "cells": [
    {
      "cell_type": "code",
      "execution_count": 1,
      "metadata": {
        "colab": {
          "base_uri": "https://localhost:8080/"
        },
        "id": "yN8rQmt_W13T",
        "outputId": "d26816f8-8fc8-43d2-9bfe-83f7c792e67d"
      },
      "outputs": [
        {
          "output_type": "stream",
          "name": "stdout",
          "text": [
            "Name: Apurv Das\n",
            "Course: Masters In Computer Applications\n",
            "Python version\n",
            "3.10.12 (main, Jul 29 2024, 16:56:48) [GCC 11.4.0]\n"
          ]
        }
      ],
      "source": [
        "\n",
        "import sys\n",
        "student_name = \"Apurv Das\"\n",
        "course_title = \"Masters In Computer Applications\"\n",
        "# Print the information\n",
        "print(f\"Name: {student_name}\")\n",
        "print(f\"Course: {course_title}\")\n",
        "print(\"Python version\")\n",
        "print(sys.version)\n"
      ]
    },
    {
      "cell_type": "code",
      "source": [
        "# A program to take a user's first and last name, then print them in reverse order.\n",
        "# Get the user's first and last name\n",
        "first_name = input(\"Enter your first name: \")\n",
        "last_name = input(\"Enter your last name: \")\n",
        "\n",
        "# Clean up the input by removing leading and trailing whitespace\n",
        "first_name = first_name.strip()\n",
        "last_name = last_name.strip()\n",
        "\n",
        "# Capitalize the first letter of each name and ensure the rest are lowercase\n",
        "first_name = first_name.capitalize()\n",
        "last_name = last_name.capitalize()\n",
        "\n",
        "# Reverse the order and concatenate with a space\n",
        "reversed_name = last_name + \" \" + first_name\n",
        "\n",
        "# Display the reversed name\n",
        "print(\"Your name in reverse order is:\", reversed_name)\n"
      ],
      "metadata": {
        "colab": {
          "base_uri": "https://localhost:8080/"
        },
        "id": "YE9Ze3ykX51x",
        "outputId": "8e1be92c-9a6e-4810-dbc0-171a319011ed"
      },
      "execution_count": 3,
      "outputs": [
        {
          "output_type": "stream",
          "name": "stdout",
          "text": [
            "Enter your first name: Apurv \n",
            "Enter your last name: Das\n",
            "Your name in reverse order is: Das Apurv\n"
          ]
        }
      ]
    },
    {
      "cell_type": "code",
      "source": [
        "# A program to convert a number into various numeric types\n",
        "# Get a number from the user\n",
        "user_input = input(\"Enter a number: \")\n",
        "\n",
        "# Convert the input to integer (int), float, and complex types\n",
        "integer_value = int(user_input)\n",
        "float_value = float(user_input)\n",
        "complex_value = complex(user_input)\n",
        "\n",
        "# Display the converted values\n",
        "print(f\"Integer: {integer_value}\")\n",
        "print(f\"Float: {float_value}\")\n",
        "print(f\"Complex: {complex_value}\")\n"
      ],
      "metadata": {
        "colab": {
          "base_uri": "https://localhost:8080/"
        },
        "id": "9luz0TwPYSTh",
        "outputId": "6a85d001-9202-4995-b0f7-286f8f514d9c"
      },
      "execution_count": 4,
      "outputs": [
        {
          "output_type": "stream",
          "name": "stdout",
          "text": [
            "Enter a number: 123\n",
            "Integer: 123\n",
            "Float: 123.0\n",
            "Complex: (123+0j)\n"
          ]
        }
      ]
    },
    {
      "cell_type": "code",
      "source": [
        "# A program to calculate the area of a rectangle\n",
        "# Get the length and width from the user\n",
        "length = float(input(\"Enter the length of the rectangle: \"))\n",
        "width = float(input(\"Enter the width of the rectangle: \"))\n",
        "\n",
        "# Calculate the area\n",
        "area = length * width\n",
        "\n",
        "# Display the area\n",
        "print(f\"The area of the rectangle is: {area:.2f}\")\n"
      ],
      "metadata": {
        "colab": {
          "base_uri": "https://localhost:8080/"
        },
        "id": "0yqSFA-wYV9X",
        "outputId": "d2e1dab8-dfaf-4479-8788-c42359684578"
      },
      "execution_count": 5,
      "outputs": [
        {
          "output_type": "stream",
          "name": "stdout",
          "text": [
            "Enter the length of the rectangle: 6\n",
            "Enter the width of the rectangle: 6\n",
            "The area of the rectangle is: 36.00\n"
          ]
        }
      ]
    },
    {
      "cell_type": "code",
      "source": [
        "# A program to calculate and print the average of three numbers\n",
        "# Get three numbers from the user\n",
        "num1 = float(input(\"Enter the first number: \"))\n",
        "num2 = float(input(\"Enter the second number: \"))\n",
        "num3 = float(input(\"Enter the third number: \"))\n",
        "\n",
        "# Calculate the average\n",
        "average = (num1 + num2 + num3) / 3\n",
        "\n",
        "# Display the average using % formatting\n",
        "print(\"The average of the three numbers is: %.2f\" % average)\n"
      ],
      "metadata": {
        "colab": {
          "base_uri": "https://localhost:8080/"
        },
        "id": "SCwKUAsbYgTx",
        "outputId": "648d472d-353c-44aa-8c6f-05b02abee0fe"
      },
      "execution_count": 6,
      "outputs": [
        {
          "output_type": "stream",
          "name": "stdout",
          "text": [
            "Enter the first number: 1\n",
            "Enter the second number: 2\n",
            "Enter the third number: 3\n",
            "The average of the three numbers is: 2.00\n"
          ]
        }
      ]
    },
    {
      "cell_type": "code",
      "source": [
        "# A program to determine if a number is positive, negative, or zero\n",
        "while True:\n",
        "    user_input = input(\"Enter a number (or type 'exit' to quit): \")\n",
        "\n",
        "    if user_input.lower() == 'exit':\n",
        "        break\n",
        "\n",
        "    try:\n",
        "        number = float(user_input)\n",
        "    except ValueError:\n",
        "        print(\"Invalid input. Please enter a number or type 'exit' to quit.\")\n",
        "        continue\n",
        "\n",
        "    if number > 0:\n",
        "        print(\"The number is positive.\")\n",
        "    elif number < 0:\n",
        "        print(\"The number is negative.\")\n",
        "    else:\n",
        "        print(\"The number is zero.\")\n"
      ],
      "metadata": {
        "colab": {
          "base_uri": "https://localhost:8080/"
        },
        "id": "ZbudlZonYsyn",
        "outputId": "1af407ef-d7ec-4b4a-a018-2a341764c61e"
      },
      "execution_count": 7,
      "outputs": [
        {
          "name": "stdout",
          "output_type": "stream",
          "text": [
            "Enter a number (or type 'exit' to quit): 6\n",
            "The number is positive.\n",
            "Enter a number (or type 'exit' to quit): -5\n",
            "The number is negative.\n",
            "Enter a number (or type 'exit' to quit): exit\n"
          ]
        }
      ]
    },
    {
      "cell_type": "code",
      "source": [
        "# A program to check if two numbers are both even, odd, or one of each\n",
        "num1 = int(input(\"Enter the first number: \"))\n",
        "num2 = int(input(\"Enter the second number: \"))\n",
        "\n",
        "num1_is_even = (num1 % 2 == 0)\n",
        "num2_is_even = (num2 % 2 == 0)\n",
        "\n",
        "if num1_is_even and num2_is_even:\n",
        "    print(\"Both numbers are even.\")\n",
        "elif not num1_is_even and not num2_is_even:\n",
        "    print(\"Both numbers are odd.\")\n",
        "else:\n",
        "    print(\"One number is even and the other is odd.\")\n",
        "3"
      ],
      "metadata": {
        "colab": {
          "base_uri": "https://localhost:8080/"
        },
        "id": "paOdnMPTY0Cw",
        "outputId": "2a91ab41-d49c-4a65-a92c-342af113691f"
      },
      "execution_count": 8,
      "outputs": [
        {
          "output_type": "stream",
          "name": "stdout",
          "text": [
            "Enter the first number: 1\n",
            "Enter the second number: 2\n",
            "One number is even and the other is odd.\n"
          ]
        }
      ]
    },
    {
      "cell_type": "code",
      "source": [
        "# A program to convert an integer to binary, octal, and hexadecimal\n",
        "def int_to_binary(n):\n",
        "    if n == 0:\n",
        "        return '0'\n",
        "    binary = ''\n",
        "    while n > 0:\n",
        "        binary = str(n & 1) + binary\n",
        "        n >>= 1\n",
        "    return binary\n",
        "\n",
        "def int_to_octal(n):\n",
        "    if n == 0:\n",
        "        return '0'\n",
        "    octal = ''\n",
        "    while n > 0:\n",
        "        octal = str(n & 7) + octal\n",
        "        n >>= 3\n",
        "    return octal\n",
        "\n",
        "def int_to_hexadecimal(n):\n",
        "    if n == 0:\n",
        "        return '0'\n",
        "    hex_chars = '0123456789ABCDEF'\n",
        "    hexadecimal = ''\n",
        "    while n > 0:\n",
        "        hexadecimal = hex_chars[n & 15] + hexadecimal\n",
        "        n >>= 4\n",
        "    return hexadecimal\n",
        "\n",
        "number = int(input(\"Enter an integer: \"))\n",
        "\n",
        "print(\"Binary equivalent:\", int_to_binary(number))\n",
        "print(\"Octal equivalent:\", int_to_octal(number))\n",
        "print(\"Hexadecimal equivalent:\", int_to_hexadecimal(number))\n",
        "\n"
      ],
      "metadata": {
        "colab": {
          "base_uri": "https://localhost:8080/"
        },
        "id": "t0IuQjp9Y71f",
        "outputId": "88dd182c-e242-4d17-ad5f-893b0995c2d4"
      },
      "execution_count": 9,
      "outputs": [
        {
          "output_type": "stream",
          "name": "stdout",
          "text": [
            "Enter an integer: 6\n",
            "Binary equivalent: 110\n",
            "Octal equivalent: 6\n",
            "Hexadecimal equivalent: 6\n"
          ]
        }
      ]
    }
  ]
}