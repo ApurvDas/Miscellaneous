{
  "nbformat": 4,
  "nbformat_minor": 0,
  "metadata": {
    "colab": {
      "provenance": []
    },
    "kernelspec": {
      "name": "python3",
      "display_name": "Python 3"
    },
    "language_info": {
      "name": "python"
    }
  },
  "cells": [
    {
      "cell_type": "code",
      "execution_count": 1,
      "metadata": {
        "colab": {
          "base_uri": "https://localhost:8080/"
        },
        "id": "3R6ZfycF_Psh",
        "outputId": "fa93556b-4953-483d-92f0-fe544b253aae"
      },
      "outputs": [
        {
          "output_type": "stream",
          "name": "stdout",
          "text": [
            "Hello Apurv!\n",
            "Hi Apurv Das!\n"
          ]
        }
      ],
      "source": [
        "def greet(name: str, greeting: str = \"Hello\") -> str:\n",
        "    return f\"{greeting} {name}!\"\n",
        "\n",
        "print(greet(\"Apurv\"))\n",
        "print(greet(\"Apurv Das\", \"Hi\"))\n"
      ]
    },
    {
      "cell_type": "code",
      "source": [
        "def create_profile(name, city, age=18):\n",
        "     return f\"Name: {name}, Age: {age}, City: {city}\"\n",
        "print(create_profile(\"Alice\", \"New York\"))\n",
        "print(create_profile(\"Bob\", \"Los Angeles\", 30))"
      ],
      "metadata": {
        "colab": {
          "base_uri": "https://localhost:8080/"
        },
        "id": "9kg7P-YF_l-O",
        "outputId": "c643028a-1691-484b-e06e-0beb767f241e"
      },
      "execution_count": 2,
      "outputs": [
        {
          "output_type": "stream",
          "name": "stdout",
          "text": [
            "Name: Alice, Age: 18, City: New York\n",
            "Name: Bob, Age: 30, City: Los Angeles\n"
          ]
        }
      ]
    },
    {
      "cell_type": "code",
      "source": [
        "def sum_numbers(*args, **kwargs):\n",
        "    num_sum = sum(arg for arg in args if isinstance(arg, (int, float)))\n",
        "    return num_sum, kwargs\n",
        "result = sum_numbers(1, 2, 3, a=4, b=5, c=6)\n",
        "print(result)\n",
        "\n",
        "result = sum_numbers('hello', 4, 5, Apurv='Das')\n",
        "print(result)"
      ],
      "metadata": {
        "colab": {
          "base_uri": "https://localhost:8080/"
        },
        "id": "pD_PNZxB_o36",
        "outputId": "6f84b3f3-279b-424e-dd37-2c09aaab6da4"
      },
      "execution_count": 3,
      "outputs": [
        {
          "output_type": "stream",
          "name": "stdout",
          "text": [
            "(6, {'a': 4, 'b': 5, 'c': 6})\n",
            "(9, {'Apurv': 'Das'})\n"
          ]
        }
      ]
    },
    {
      "cell_type": "code",
      "source": [
        "def square_elements(numbers):\n",
        "    return list(map(lambda x: x**2, numbers))\n",
        "numbers = [1, 2, 3, 4, 5]\n",
        "result = square_elements(numbers)\n",
        "print(result)"
      ],
      "metadata": {
        "colab": {
          "base_uri": "https://localhost:8080/"
        },
        "id": "NrX7qAPp_yA-",
        "outputId": "c3cc3145-caf9-4214-be25-7c6589819a33"
      },
      "execution_count": 4,
      "outputs": [
        {
          "output_type": "stream",
          "name": "stdout",
          "text": [
            "[1, 4, 9, 16, 25]\n"
          ]
        }
      ]
    },
    {
      "cell_type": "code",
      "source": [
        "def filter_even_numbers(numbers):\n",
        "    return list(filter(lambda x: x % 2 == 0, numbers))\n",
        "numbers = [1, 2, 3, 4, 5, 6]\n",
        "even_numbers = filter_even_numbers(numbers)\n",
        "print(even_numbers)"
      ],
      "metadata": {
        "colab": {
          "base_uri": "https://localhost:8080/"
        },
        "id": "y4s6hVV3_1yI",
        "outputId": "90517d1a-b5ad-4ed3-8fc1-64ea5f676d27"
      },
      "execution_count": 5,
      "outputs": [
        {
          "output_type": "stream",
          "name": "stdout",
          "text": [
            "[2, 4, 6]\n"
          ]
        }
      ]
    },
    {
      "cell_type": "code",
      "source": [
        "numbers = [1, 2, 3, 4, 5]\n",
        "squares = [n**2 for n in numbers]\n",
        "print(squares)"
      ],
      "metadata": {
        "colab": {
          "base_uri": "https://localhost:8080/"
        },
        "id": "4J6LBcD-_4q2",
        "outputId": "0184abd9-82a1-4ae7-fa63-c6d64bdbc5a7"
      },
      "execution_count": 6,
      "outputs": [
        {
          "output_type": "stream",
          "name": "stdout",
          "text": [
            "[1, 4, 9, 16, 25]\n"
          ]
        }
      ]
    },
    {
      "cell_type": "code",
      "source": [
        "even_numbers = [i for i in range(1, 21) if i % 2 == 0]\n",
        "print(\"The list of even numbers from 1 to 20 is:\")\n",
        "print(even_numbers)\n",
        "\"\"\"The list of even numbers from 1 to 20 is:\n",
        "[2, 4, 6, 8, 10, 12, 14, 16, 18, 20]\"\"\""
      ],
      "metadata": {
        "colab": {
          "base_uri": "https://localhost:8080/",
          "height": 73
        },
        "id": "gNrM6om6_7Bn",
        "outputId": "1a7fe3b5-0d0a-4b6a-f06a-f7396e0e30c5"
      },
      "execution_count": 7,
      "outputs": [
        {
          "output_type": "stream",
          "name": "stdout",
          "text": [
            "The list of even numbers from 1 to 20 is:\n",
            "[2, 4, 6, 8, 10, 12, 14, 16, 18, 20]\n"
          ]
        },
        {
          "output_type": "execute_result",
          "data": {
            "text/plain": [
              "'The list of even numbers from 1 to 20 is:\\n[2, 4, 6, 8, 10, 12, 14, 16, 18, 20]'"
            ],
            "application/vnd.google.colaboratory.intrinsic+json": {
              "type": "string"
            }
          },
          "metadata": {},
          "execution_count": 7
        }
      ]
    },
    {
      "cell_type": "code",
      "source": [
        "import os\n",
        "import time\n",
        "\n",
        "def file_operations():\n",
        "    try:\n",
        "        # Create a directory named \"test_folder\"\n",
        "        os.makedirs(\"test_folder\")\n",
        "    except OSError as e:\n",
        "        print(f\"Error creating directory: {e}\")\n",
        "\n",
        "    # Pause the execution for 3 seconds\n",
        "    time.sleep(3)\n",
        "\n",
        "    try:\n",
        "        # Delete the directory\n",
        "        os.rmdir(\"test_folder\")\n",
        "    except OSError as e:\n",
        "        print(f\"Error deleting directory: {e}\")\n",
        "\n",
        "# Call the function\n",
        "file_operations()"
      ],
      "metadata": {
        "id": "H5LY3oZs_-DN"
      },
      "execution_count": 8,
      "outputs": []
    },
    {
      "cell_type": "code",
      "source": [
        "from time import sleep as pause\n",
        "\n",
        "print(\"Starting execution...\")\n",
        "pause(2)\n",
        "print(\"Execution resumed.\")"
      ],
      "metadata": {
        "colab": {
          "base_uri": "https://localhost:8080/"
        },
        "id": "oDUyTCToAAyR",
        "outputId": "43cdebb9-d4b9-4bf5-caa8-905590de6081"
      },
      "execution_count": 9,
      "outputs": [
        {
          "output_type": "stream",
          "name": "stdout",
          "text": [
            "Starting execution...\n",
            "Execution resumed.\n"
          ]
        }
      ]
    },
    {
      "cell_type": "code",
      "source": [
        "def flatten_list(*args, **kwargs):\n",
        "    flat_list = []\n",
        "    for arg in args:\n",
        "        if isinstance(arg, list):\n",
        "            flat_list.extend(flatten_list(*arg))\n",
        "        else:\n",
        "            flat_list.append(arg)\n",
        "    return flat_list\n",
        ""
      ],
      "metadata": {
        "id": "FuzN6VR9ADrv"
      },
      "execution_count": 10,
      "outputs": []
    }
  ]
}